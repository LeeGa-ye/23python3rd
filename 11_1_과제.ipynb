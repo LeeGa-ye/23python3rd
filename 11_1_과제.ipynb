{
  "nbformat": 4,
  "nbformat_minor": 0,
  "metadata": {
    "colab": {
      "provenance": [],
      "authorship_tag": "ABX9TyNBVE9GvDaqeq1RNvLNYAP4",
      "include_colab_link": true
    },
    "kernelspec": {
      "name": "python3",
      "display_name": "Python 3"
    },
    "language_info": {
      "name": "python"
    }
  },
  "cells": [
    {
      "cell_type": "markdown",
      "metadata": {
        "id": "view-in-github",
        "colab_type": "text"
      },
      "source": [
        "<a href=\"https://colab.research.google.com/github/LeeGa-ye/23python3rd/blob/main/11_1_%EA%B3%BC%EC%A0%9C.ipynb\" target=\"_parent\"><img src=\"https://colab.research.google.com/assets/colab-badge.svg\" alt=\"Open In Colab\"/></a>"
      ]
    },
    {
      "cell_type": "markdown",
      "source": [
        "3. 사용자로부터 2개의 정수를 받아서 합계를 출력\n"
      ],
      "metadata": {
        "id": "QbSxipH4Z_t8"
      }
    },
    {
      "cell_type": "code",
      "source": [
        "print(\"정수 2개를 입력하시오. \")\n",
        "x = int(input(\"x의 값을 입력하시오.: \"))                             # 사용자로부터 x의 값을 입력받아 정수형으로 변환하여 변수에 저장\n",
        "y = int(input(\"y의 값을 입력하시오.: \"))                             # 사용자로부터 y의 값을 입력받아 정수형으로 변환하여 변수에 저장\n",
        "sum = x + y                                                          # x와 y의 값을 더하여 합계를 계산\n",
        "print(sum)                                                           # 합계를 출력\n",
        "print(f'x의 값{x}와 y의 값{y}을 더하면 {sum}라는 결과가 나온다.')    # 연산 결과를 출력"
      ],
      "metadata": {
        "colab": {
          "base_uri": "https://localhost:8080/"
        },
        "id": "SLCgjbqVaIdY",
        "outputId": "cec61618-6429-4f8f-c390-8b91c49b2754"
      },
      "execution_count": null,
      "outputs": [
        {
          "output_type": "stream",
          "name": "stdout",
          "text": [
            "정수 2개를 입력하시오. \n",
            "x의 값을 입력하시오.: 2\n",
            "y의 값을 입력하시오.: 3\n",
            "5\n",
            "x의 값2와 y의 값3을 더하면 5라는 결과가 나온다.\n"
          ]
        }
      ]
    },
    {
      "cell_type": "markdown",
      "source": [
        "4. 부가세 계산"
      ],
      "metadata": {
        "id": "7dkxxPTFbgdV"
      }
    },
    {
      "cell_type": "code",
      "source": [
        "print(\"상품의 가격을 입력하시오. \")\n",
        "price = int(input(\"가격: \"))                                         # 사용자로부터 가격을 입력받아 정수형으로 변환하여 변수에 저장\n",
        "vat = price * 0.1                                                    # 가격에 0.1을 곱하여 부가세를 계산\n",
        "print(vat)                                                           # 부가세를 출력\n",
        "print(f'상품의 가격의 {price}원일때, 부가세는 {vat}원이 나온다.')    # 가격과 부가세를 출력"
      ],
      "metadata": {
        "colab": {
          "base_uri": "https://localhost:8080/"
        },
        "id": "s5-Q7CUabmTN",
        "outputId": "a921a2fe-4c21-4836-d807-cc1460dc85ed"
      },
      "execution_count": null,
      "outputs": [
        {
          "output_type": "stream",
          "name": "stdout",
          "text": [
            "상품의 가격을 입력하시오. \n",
            "가격: 13500\n",
            "1350.0\n",
            "상품의 가격의 13500원일때, 부가세는 1350.0원이 나온다.\n"
          ]
        }
      ]
    }
  ]
}