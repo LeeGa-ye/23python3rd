{
  "nbformat": 4,
  "nbformat_minor": 0,
  "metadata": {
    "colab": {
      "provenance": [],
      "authorship_tag": "ABX9TyO7yUNGJ9tTJDWfj4xWFLyh",
      "include_colab_link": true
    },
    "kernelspec": {
      "name": "python3",
      "display_name": "Python 3"
    },
    "language_info": {
      "name": "python"
    }
  },
  "cells": [
    {
      "cell_type": "markdown",
      "metadata": {
        "id": "view-in-github",
        "colab_type": "text"
      },
      "source": [
        "<a href=\"https://colab.research.google.com/github/LeeGa-ye/23python3rd/blob/main/11_1_%EA%B3%BC%EC%A0%9C.ipynb\" target=\"_parent\"><img src=\"https://colab.research.google.com/assets/colab-badge.svg\" alt=\"Open In Colab\"/></a>"
      ]
    },
    {
      "cell_type": "markdown",
      "source": [
        "3. 사용자로부터 2개의 정수를 받아서 합계를 출력\n"
      ],
      "metadata": {
        "id": "QbSxipH4Z_t8"
      }
    },
    {
      "cell_type": "code",
      "source": [
        "print(\"정수 2개를 입력하시오. \")\n",
        "x = int(input(\"x의 값을 입력하시오.: \"))                             # 사용자로부터 x의 값을 입력받아 정수형으로 변환하여 변수에 저장\n",
        "y = int(input(\"y의 값을 입력하시오.: \"))                             # 사용자로부터 y의 값을 입력받아 정수형으로 변환하여 변수에 저장\n",
        "sum = x + y                                                          # x와 y의 값을 더하여 합계를 계산\n",
        "print(sum)                                                           # 합계를 출력\n",
        "print(f'x의 값{x}와 y의 값{y}을 더하면 {sum}라는 결과가 나온다.')    # 연산 결과를 출력"
      ],
      "metadata": {
        "colab": {
          "base_uri": "https://localhost:8080/"
        },
        "id": "SLCgjbqVaIdY",
        "outputId": "cec61618-6429-4f8f-c390-8b91c49b2754"
      },
      "execution_count": null,
      "outputs": [
        {
          "output_type": "stream",
          "name": "stdout",
          "text": [
            "정수 2개를 입력하시오. \n",
            "x의 값을 입력하시오.: 2\n",
            "y의 값을 입력하시오.: 3\n",
            "5\n",
            "x의 값2와 y의 값3을 더하면 5라는 결과가 나온다.\n"
          ]
        }
      ]
    },
    {
      "cell_type": "markdown",
      "source": [
        "print(\"정수 2개를 입력하시오.\")는 사용자에게 정수 2개를 입력하라는 안내 메시지를 출력하는 코드입니다.\n",
        "x = int(input(\"x의 값을 입력하시오.: \"))는 사용자로부터 x의 값을 입력받아 정수형으로 변환하여 x 변수에 저장하는 코드입니다. input() 함수를 사용하여 사용자로부터 입력을 받고, int() 함수를 사용하여 입력된 값을 정수로 변환합니다.\n",
        "y = int(input(\"y의 값을 입력하시오.: \"))는 사용자로부터 y의 값을 입력받아 정수형으로 변환하여 y 변수에 저장하는 코드입니다. input() 함수를 사용하여 사용자로부터 입력을 받고, int() 함수를 사용하여 입력된 값을 정수로 변환합니다.\n",
        "sum = x + y는 변수 x와 y의 값을 더하여 합계를 계산하여 sum 변수에 저장하는 코드입니다.\n",
        "print(sum)은 합계를 출력하는 코드입니다.\n",
        "print(f'x의 값{x}와 y의 값{y}을 더하면 {sum}라는 결과가 나온다.')는 x와 y의 값을 더한 결과를 출력하는 코드입니다. f-string을 사용하여 문자열 안에 변수 값을 포맷팅하여 출력합니다.\n",
        "위의 코드는 사용자로부터 입력받은 두 정수를 더한 합계를 계산하고 출력하는 예제입니다. 입력된 두 정수를 x와 y 변수에 저장한 후, 두 변수의 값을 더하여 합계를 계산하고 출력합니다. 또한, 연산 결과를 포맷팅하여 출력합니다."
      ],
      "metadata": {
        "id": "0xuEfVBMAxyS"
      }
    },
    {
      "cell_type": "markdown",
      "source": [
        "4. 부가세 계산"
      ],
      "metadata": {
        "id": "7dkxxPTFbgdV"
      }
    },
    {
      "cell_type": "code",
      "source": [
        "print(\"상품의 가격을 입력하시오. \")\n",
        "price = int(input(\"가격: \"))                                         # 사용자로부터 가격을 입력받아 정수형으로 변환하여 변수에 저장\n",
        "vat = price * 0.1                                                    # 가격에 0.1을 곱하여 부가세를 계산\n",
        "print(vat)                                                           # 부가세를 출력\n",
        "print(f'상품의 가격의 {price}원일때, 부가세는 {vat}원이 나온다.')    # 가격과 부가세를 출력"
      ],
      "metadata": {
        "colab": {
          "base_uri": "https://localhost:8080/"
        },
        "id": "s5-Q7CUabmTN",
        "outputId": "a921a2fe-4c21-4836-d807-cc1460dc85ed"
      },
      "execution_count": null,
      "outputs": [
        {
          "output_type": "stream",
          "name": "stdout",
          "text": [
            "상품의 가격을 입력하시오. \n",
            "가격: 13500\n",
            "1350.0\n",
            "상품의 가격의 13500원일때, 부가세는 1350.0원이 나온다.\n"
          ]
        }
      ]
    },
    {
      "cell_type": "markdown",
      "source": [
        "print(\"상품의 가격을 입력하시오.\")는 사용자에게 상품의 가격을 입력하라는 안내 메시지를 출력하는 코드입니다.\n",
        "price = int(input(\"가격: \"))는 사용자로부터 가격을 입력받아 정수형으로 변환하여 price 변수에 저장하는 코드입니다. input() 함수를 사용하여 사용자로부터 입력을 받고, int() 함수를 사용하여 입력된 값을 정수로 변환합니다.\n",
        "vat = price * 0.1는 가격에 0.1을 곱하여 부가세를 계산하여 vat 변수에 저장하는 코드입니다. 가격의 10%를 부가세로 계산하는 예시입니다.\n",
        "print(vat)은 부가세를 출력하는 코드입니다.\n",
        "print(f'상품의 가격의 {price}원일때, 부가세는 {vat}원이 나온다.')는 상품의 가격과 부가세를 출력하는 코드입니다. f-string을 사용하여 문자열 안에 변수 값을 포맷팅하여 출력합니다.\n",
        "위의 코드는 사용자로부터 입력받은 가격을 기준으로 부가세를 계산하고 출력하는 예제입니다. 입력된 가격에 0.1을 곱하여 부가세를 계산하고 출력합니다. 또한, 가격과 부가세를 포맷팅하여 출력합니다."
      ],
      "metadata": {
        "id": "hCox0XdfA2-v"
      }
    }
  ]
}