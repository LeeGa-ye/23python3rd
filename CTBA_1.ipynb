{
  "nbformat": 4,
  "nbformat_minor": 0,
  "metadata": {
    "colab": {
      "provenance": [],
      "authorship_tag": "ABX9TyMXG5aqxyfGAnUqVPdeRe3E",
      "include_colab_link": true
    },
    "kernelspec": {
      "name": "python3",
      "display_name": "Python 3"
    },
    "language_info": {
      "name": "python"
    }
  },
  "cells": [
    {
      "cell_type": "markdown",
      "metadata": {
        "id": "view-in-github",
        "colab_type": "text"
      },
      "source": [
        "<a href=\"https://colab.research.google.com/github/LeeGa-ye/23python3rd/blob/main/CTBA_1.ipynb\" target=\"_parent\"><img src=\"https://colab.research.google.com/assets/colab-badge.svg\" alt=\"Open In Colab\"/></a>"
      ]
    },
    {
      "cell_type": "markdown",
      "source": [
        "1. 쇼핑몰의 배송료를 계산하는 코드 작성\n",
        "- 사용하는 변수 : price, shopping_cost"
      ],
      "metadata": {
        "id": "xdKsVPqbbXml"
      }
    },
    {
      "cell_type": "code",
      "source": [
        "print(\"상품의 가격을 입력하시오.\")\n",
        "price = int(input(\"구입 금액을 입력: \"))\n",
        "if price > 20000:                              # 가격이 2만원 이상인 경우\n",
        "  shopping_cost = 0\n",
        "  print(f'구입 금액이 2만원 이상입니다.')\n",
        "else:                                          # 가격이 2만원 이하인 경우\n",
        "  shopping_cost = 3000\n",
        "  print(f'구입 금액이 2만원 이하입니다.')\n",
        "print(f'회원님의 배송비는 {shopping_cost}원 입니다.')"
      ],
      "metadata": {
        "colab": {
          "base_uri": "https://localhost:8080/"
        },
        "id": "q6-7d1FSc6kW",
        "outputId": "d4414eb8-cbd2-4862-f6cb-67bd1fcb5652"
      },
      "execution_count": null,
      "outputs": [
        {
          "output_type": "stream",
          "name": "stdout",
          "text": [
            "상품의 가격을 입력하시오.\n",
            "구입 금액을 입력: 25000\n",
            "구입 금액이 2만원 이상입니다.\n",
            "회원님의 배송비는 0원 입니다.\n"
          ]
        }
      ]
    },
    {
      "cell_type": "markdown",
      "source": [
        "print(\"상품의 가격을 입력하시오.\")는 사용자에게 상품의 가격을 입력하라는 안내 메시지를 출력하는 코드입니다.\n",
        "price = int(input(\"구입 금액을 입력: \"))는 사용자로부터 구입 금액을 입력받아 정수형으로 변환하여 price 변수에 저장하는 코드입니다. input() 함수를 사용하여 사용자로부터 입력을 받고, int() 함수를 사용하여 입력된 값을 정수로 변환합니다.\n",
        "if price > 20000:는 가격이 2만원 이상인 경우를 확인하는 조건문입니다. 만약 price 변수의 값이 20000보다 크면, 즉 가격이 2만원 이상이면 아래의 코드 블록이 실행됩니다.\n",
        "shopping_cost = 0는 배송비를 0으로 설정하는 코드입니다.\n",
        "print(f'구입 금액이 2만원 이상입니다.')는 가격이 2만원 이상이라는 안내 메시지를 출력하는 코드입니다.\n",
        "else:는 가격이 2만원 이하인 경우를 확인하는 조건문의 블록을 시작하는 키워드입니다. 만약 price 변수의 값이 20000보다 작거나 같으면, 즉 가격이 2만원 이하이면 아래의 코드 블록이 실행됩니다.\n",
        "shopping_cost = 3000은 배송비를 3000으로 설정하는 코드입니다.\n",
        "print(f'구입 금액이 2만원 이하입니다.')는 가격이 2만원 이하라는 안내 메시지를 출력하는 코드입니다.\n",
        "print(f'회원님의 배송비는 {shopping_cost}원 입니다.')는 회원의 배송비를 출력하는 코드입니다.\n",
        "위의 코드는 사용자로부터 구입 금액을 입력받아서 해당하는 배송비를 결정하고 출력하는 예제입니다. 입력된 가격이 2만원 이상인 경우 배송비를 0으로 설정하고, 2만원 이하인 경우 배송비를 3000으로 설정합니다. 이후 배송비를 출력합니다."
      ],
      "metadata": {
        "id": "P1rtIFwL_UGV"
      }
    },
    {
      "cell_type": "markdown",
      "source": [
        "2. 학생으로부터 성적을 입력받아 합격유무를 출력하는 코드\n",
        "- 사용하는 변수 : grade"
      ],
      "metadata": {
        "id": "oheiimOdgrkl"
      }
    },
    {
      "cell_type": "code",
      "source": [
        "print(\"성적을 입력하시오.\")\n",
        "grade = int(input(\"성적 입력: \"))\n",
        "if grade >= 70:                                           # 성적이 70점 이상인 경우\n",
        "  print(f'70점 이상이므로 합격입니다.')\n",
        "  print(\"축하합니다. 합격입니다.\")\n",
        "else:                                                     # 성적이 70점 이하인 경우\n",
        "  print(f'70점 이하이므로 불합격입니다.')\n",
        "  print(\"아쉽군요. 다음에 다시 한 번 더 도전해보세요.\")"
      ],
      "metadata": {
        "colab": {
          "base_uri": "https://localhost:8080/"
        },
        "id": "QDbzne-ehB3V",
        "outputId": "7adf3a52-365d-4a25-b09b-ac4f22f09b46"
      },
      "execution_count": null,
      "outputs": [
        {
          "output_type": "stream",
          "name": "stdout",
          "text": [
            "성적을 입력하시오.\n",
            "성적 입력: 80\n",
            "70점 이상이므로 합격입니다.\n",
            "축하합니다. 합격입니다.\n"
          ]
        }
      ]
    },
    {
      "cell_type": "markdown",
      "source": [
        "print(\"성적을 입력하시오.\")는 사용자에게 성적을 입력하라는 안내 메시지를 출력하는 코드입니다.\n",
        "grade = int(input(\"성적 입력: \"))는 사용자로부터 성적을 입력받아 정수형으로 변환하여 grade 변수에 저장하는 코드입니다. input() 함수를 사용하여 사용자로부터 입력을 받고, int() 함수를 사용하여 입력된 값을 정수로 변환합니다.\n",
        "if grade >= 70:는 성적이 70점 이상인 경우를 확인하는 조건문입니다. 만약 grade 변수의 값이 70 이상이면, 즉 성적이 70점 이상이면 아래의 코드 블록이 실행됩니다.\n",
        "print(f'70점 이상이므로 합격입니다.')는 성적이 70점 이상이라는 안내 메시지를 출력하는 코드입니다.\n",
        "print(\"축하합니다. 합격입니다.\")는 합격을 축하하는 메시지를 출력하는 코드입니다.\n",
        "else:는 성적이 70점 이하인 경우를 확인하는 조건문의 블록을 시작하는 키워드입니다. 만약 grade 변수의 값이 70 미만이면, 즉 성적이 70점 이하이면 아래의 코드 블록이 실행됩니다.\n",
        "print(f'70점 이하이므로 불합격입니다.')는 성적이 70점 이하라는 안내 메시지를 출력하는 코드입니다.\n",
        "print(\"아쉽군요. 다음에 다시 한 번 더 도전해보세요.\")는 불합격을 안내하는 메시지를 출력하는 코드입니다.\n",
        "위의 코드는 사용자로부터 입력받은 성적을 확인하여 합격 또는 불합격을 판단하고, 그에 따른 메시지를 출력하는 예제입니다. 입력된 성적이 70점 이상인 경우 합격 메시지와 축하 메시지가 출력되고, 성적이 70점 이하인 경우 불합격 메시지와 도전 장려 메시지가 출력됩니다."
      ],
      "metadata": {
        "id": "pvTVedPa_gnA"
      }
    },
    {
      "cell_type": "markdown",
      "source": [
        "3. 근무 시간에 따라 초과 근무와 정상 근무를 판별하는 코드\n",
        "- 사용하는 코드: work_hour\n",
        "- 연산코드 : work_hour > 72"
      ],
      "metadata": {
        "id": "_Foak-ithwxs"
      }
    },
    {
      "cell_type": "code",
      "source": [
        "print(\"일한 시간을 입력하시오.\")\n",
        "work_hour = int(input(\"일한 시간 입력: \"))\n",
        "if work_hour > 72:                                # 일한 시간이 72시간을 초과하는 경우\n",
        "  print(\"#\"*20)\n",
        "  print(f'#초과 근무입니다.#')\n",
        "  print(\"#\"*20)\n",
        "else:                                            # 일한 시간이 72시간 이하인 경우\n",
        "  print(\"#\"*20)\n",
        "  print(f'#정상 근무입니다.#')\n",
        "  print(\"#\"*20)"
      ],
      "metadata": {
        "colab": {
          "base_uri": "https://localhost:8080/"
        },
        "id": "t-0deK47iKCk",
        "outputId": "234f6b5d-2d0c-4968-ad49-ec838e7773fd"
      },
      "execution_count": null,
      "outputs": [
        {
          "output_type": "stream",
          "name": "stdout",
          "text": [
            "일한 시간을 입력하시오.\n",
            "일한 시간 입력: 73\n",
            "####################\n",
            "#초과 근무입니다.#\n",
            "####################\n"
          ]
        }
      ]
    },
    {
      "cell_type": "markdown",
      "source": [
        "print(\"일한 시간을 입력하시오.\")는 사용자에게 일한 시간을 입력하라는 안내 메시지를 출력하는 코드입니다.\n",
        "work_hour = int(input(\"일한 시간 입력: \"))는 사용자로부터 일한 시간을 입력받아 정수형으로 변환하여 work_hour 변수에 저장하는 코드입니다. input() 함수를 사용하여 사용자로부터 입력을 받고, int() 함수를 사용하여 입력된 값을 정수로 변환합니다.\n",
        "if work_hour > 72:는 일한 시간이 72시간을 초과하는 경우를 확인하는 조건문입니다. 만약 work_hour 변수의 값이 72보다 크면, 즉 일한 시간이 72시간을 초과하면 아래의 코드 블록이 실행됩니다.\n",
        "print(\"#\"*20)는 \"#\" 문자를 20번 반복하여 출력하는 코드입니다. 이를 통해 구분선을 생성합니다.\n",
        "print(f'#초과 근무입니다.#')는 초과 근무임을 알리는 메시지를 출력하는 코드입니다.\n",
        "print(\"#\"*20)는 구분선을 출력하는 코드입니다.\n",
        "else:는 일한 시간이 72시간 이하인 경우를 확인하는 조건문의 블록을 시작하는 키워드입니다. 만약 work_hour 변수의 값이 72 이하이면, 즉 일한 시간이 72시간 이하이면 아래의 코드 블록이 실행됩니다.\n",
        "print(\"#\"*20)는 구분선을 출력하는 코드입니다.\n",
        "print(f'#정상 근무입니다.#')는 정상 근무임을 알리는 메시지를 출력하는 코드입니다.\n",
        "print(\"#\"*20)는 구분선을 출력하는 코드입니다.\n",
        "위의 코드는 사용자로부터 입력받은 일한 시간을 확인하여 일한 시간이 72시간을 초과하는지 여부를 판단하고, 그에 따른 메시지와 구분선을 출력하는 예제입니다. 입력된 일한 시간이 72시간을 초과하는 경우 초과 근무임을 알리는 메시지와 구분선이 출력되고, 일한 시간이 72시간 이하인 경우 정상 근무임을 알리는 메시지와 구분선이 출력됩니다."
      ],
      "metadata": {
        "id": "PlVyqveg_57H"
      }
    },
    {
      "cell_type": "markdown",
      "source": [
        "4. 짝수와 홀수를 판별하는 코드\n",
        " - 사용변수 : _num_\n",
        " - 코드 수식 : (_num_ % 2) != 0:"
      ],
      "metadata": {
        "id": "vcqPWHm1l370"
      }
    },
    {
      "cell_type": "code",
      "source": [
        "print(\"정수를 입력하시오.\")\n",
        "_num_ = int(input(\"정수 입력: \"))\n",
        "if (_num_ % 2) != 0:                         # 입력된 정수가 홀수인 경우\n",
        "  print(f'입력하신 {_num_}은 홀수입니다.')\n",
        "else:                                        # 입력된 정수가 짝수인 경우\n",
        "  print(f'입력하신 {_num_}은 짝수입니다.')"
      ],
      "metadata": {
        "colab": {
          "base_uri": "https://localhost:8080/"
        },
        "id": "fzmZWf5PmCtc",
        "outputId": "748e4b1c-2637-4899-c86f-d6fb8e0f1adf"
      },
      "execution_count": null,
      "outputs": [
        {
          "output_type": "stream",
          "name": "stdout",
          "text": [
            "정수를 입력하시오.\n",
            "정수 입력: 5\n",
            "입력하신 5은 홀수입니다.\n"
          ]
        }
      ]
    },
    {
      "cell_type": "markdown",
      "source": [
        "print(\"정수를 입력하시오.\")는 사용자에게 정수를 입력하라는 안내 메시지를 출력하는 코드입니다.\n",
        "_num_ = int(input(\"정수 입력: \"))는 사용자로부터 정수를 입력받아 정수형으로 변환하여 _num_ 변수에 저장하는 코드입니다. input() 함수를 사용하여 사용자로부터 입력을 받고, int() 함수를 사용하여 입력된 값을 정수로 변환합니다.\n",
        "if (_num_ % 2) != 0:는 입력된 정수가 홀수인지 확인하는 조건문입니다. 만약 _num_ 변수의 값이 2로 나누어 떨어지지 않으면, 즉 홀수이면 아래의 코드 블록이 실행됩니다.\n",
        "print(f'입력하신 {_num_}은 홀수입니다.')는 입력된 정수가 홀수라는 메시지를 출력하는 코드입니다.\n",
        "else:는 입력된 정수가 홀수가 아닌 경우를 확인하는 조건문의 블록을 시작하는 키워드입니다. 만약 _num_ 변수의 값이 2로 나누어 떨어지면, 즉 짝수이면 아래의 코드 블록이 실행됩니다.\n",
        "print(f'입력하신 {_num_}은 짝수입니다.')는 입력된 정수가 짝수라는 메시지를 출력하는 코드입니다.\n",
        "위의 코드는 사용자로부터 입력받은 정수가 홀수인지 짝수인지 판단하여 해당하는 메시지를 출력하는 예제입니다. 입력된 정수가 홀수인 경우 홀수임을 알리는 메시지가 출력되고, 입력된 정수가 짝수인 경우 짝수임을 알리는 메시지가 출력됩니다."
      ],
      "metadata": {
        "id": "5nRkCesnAIo1"
      }
    },
    {
      "cell_type": "markdown",
      "source": [
        "5. 사용자의 이름과 나이를 물어보고, 답변하는 코드\n",
        "- 사용변수 : name, age\n",
        "- 출력할 내용:\n",
        "  - 성명\n",
        "  - 나이 :20\n",
        "  - (1) 20살 이하: 프로그래밍을 배우는 최적의 나이입니다.\n",
        "  - (2) 20살 이상: 아직도 늦지 않았습니다.\n"
      ],
      "metadata": {
        "id": "gKyKdOxanF3Q"
      }
    },
    {
      "cell_type": "code",
      "source": [
        "print(\"귀하의 이름을 입력하시오.\")\n",
        "print(\"귀하의 나이를 입력하시오.\")\n",
        "name = (input(\"이름: \"))\n",
        "age = int(input(\"나이: \"))\n",
        "if age >= 20:                                        # 나이가 20세 이상인 경우\n",
        "  print(f'아직도 늦지 않았습니다.')\n",
        "else:\n",
        "  print(f'프로그래밍을 배우는 최적의 나이입니다.')   # 나이가 20세 미만인 경우"
      ],
      "metadata": {
        "colab": {
          "base_uri": "https://localhost:8080/"
        },
        "id": "Oy6buQ3An4Gs",
        "outputId": "28d781f4-94eb-4acd-f466-6eff180034fc"
      },
      "execution_count": null,
      "outputs": [
        {
          "output_type": "stream",
          "name": "stdout",
          "text": [
            "귀하의 이름을 입력하시오.\n",
            "귀하의 나이를 입력하시오.\n",
            "이름: 이가예\n",
            "나이: 20\n",
            "아직도 늦지 않았습니다.\n"
          ]
        }
      ]
    },
    {
      "cell_type": "markdown",
      "source": [
        "print(\"귀하의 이름을 입력하시오.\")는 사용자에게 이름을 입력하라는 안내 메시지를 출력하는 코드입니다.\n",
        "print(\"귀하의 나이를 입력하시오.\")는 사용자에게 나이를 입력하라는 안내 메시지를 출력하는 코드입니다.\n",
        "name = (input(\"이름: \"))는 사용자로부터 이름을 입력받아 name 변수에 저장하는 코드입니다. input() 함수를 사용하여 사용자로부터 입력을 받습니다.\n",
        "age = int(input(\"나이: \"))는 사용자로부터 나이를 입력받아 정수형으로 변환하여 age 변수에 저장하는 코드입니다. input() 함수를 사용하여 사용자로부터 입력을 받고, int() 함수를 사용하여 입력된 값을 정수로 변환합니다.\n",
        "if age >= 20:는 나이가 20세 이상인 경우를 확인하는 조건문입니다. 만약 age 변수의 값이 20 이상이면, 즉 나이가 20세 이상이면 아래의 코드 블록이 실행됩니다.\n",
        "print(f'아직도 늦지 않았습니다.')는 아직도 늦지 않았다는 메시지를 출력하는 코드입니다.\n",
        "else:는 나이가 20세 미만인 경우를 확인하는 조건문의 블록을 시작하는 키워드입니다. 만약 age 변수의 값이 20 미만이면, 즉 나이가 20세 미만이면 아래의 코드 블록이 실행됩니다.\n",
        "print(f'프로그래밍을 배우는 최적의 나이입니다.')는 프로그래밍을 배우는 최적의 나이라는 메시지를 출력하는 코드입니다.\n",
        "위의 코드는 사용자로부터 입력받은 이름과 나이에 따라 메시지를 출력하는 예제입니다. 나이가 20세 이상인 경우 \"아직도 늦지 않았습니다.\"라는 메시지가 출력되고, 나이가 20세 미만인 경우 \"프로그래밍을 배우는 최적의 나이입니다.\"라는 메시지가 출력됩니다."
      ],
      "metadata": {
        "id": "IF9PerO0Aax1"
      }
    }
  ]
}