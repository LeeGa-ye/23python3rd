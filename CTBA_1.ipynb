{
  "nbformat": 4,
  "nbformat_minor": 0,
  "metadata": {
    "colab": {
      "provenance": [],
      "authorship_tag": "ABX9TyPIJIrBEE6XAK0gQHsRfaDz",
      "include_colab_link": true
    },
    "kernelspec": {
      "name": "python3",
      "display_name": "Python 3"
    },
    "language_info": {
      "name": "python"
    }
  },
  "cells": [
    {
      "cell_type": "markdown",
      "metadata": {
        "id": "view-in-github",
        "colab_type": "text"
      },
      "source": [
        "<a href=\"https://colab.research.google.com/github/LeeGa-ye/23python3rd/blob/main/CTBA_1.ipynb\" target=\"_parent\"><img src=\"https://colab.research.google.com/assets/colab-badge.svg\" alt=\"Open In Colab\"/></a>"
      ]
    },
    {
      "cell_type": "markdown",
      "source": [
        "1. 쇼핑몰의 배송료를 계산하는 코드 작성\n",
        "- 사용하는 변수 : price, shopping_cost"
      ],
      "metadata": {
        "id": "xdKsVPqbbXml"
      }
    },
    {
      "cell_type": "code",
      "source": [
        "print(\"상품의 가격을 입력하시오.\")\n",
        "price = int(input(\"구입 금액을 입력: \"))\n",
        "if price > 20000:                              # 가격이 2만원 이상인 경우\n",
        "  shopping_cost = 0\n",
        "  print(f'구입 금액이 2만원 이상입니다.')\n",
        "else:                                          # 가격이 2만원 이하인 경우\n",
        "  shopping_cost = 3000\n",
        "  print(f'구입 금액이 2만원 이하입니다.')\n",
        "print(f'회원님의 배송비는 {shopping_cost}원 입니다.')"
      ],
      "metadata": {
        "colab": {
          "base_uri": "https://localhost:8080/"
        },
        "id": "q6-7d1FSc6kW",
        "outputId": "d4414eb8-cbd2-4862-f6cb-67bd1fcb5652"
      },
      "execution_count": null,
      "outputs": [
        {
          "output_type": "stream",
          "name": "stdout",
          "text": [
            "상품의 가격을 입력하시오.\n",
            "구입 금액을 입력: 25000\n",
            "구입 금액이 2만원 이상입니다.\n",
            "회원님의 배송비는 0원 입니다.\n"
          ]
        }
      ]
    },
    {
      "cell_type": "markdown",
      "source": [
        "2. 학생으로부터 성적을 입력받아 합격유무를 출력하는 코드\n",
        "- 사용하는 변수 : grade"
      ],
      "metadata": {
        "id": "oheiimOdgrkl"
      }
    },
    {
      "cell_type": "code",
      "source": [
        "print(\"성적을 입력하시오.\")\n",
        "grade = int(input(\"성적 입력: \"))\n",
        "if grade >= 70:                                           # 성적이 70점 이상인 경우\n",
        "  print(f'70점 이상이므로 합격입니다.')\n",
        "  print(\"축하합니다. 합격입니다.\")\n",
        "else:                                                     # 성적이 70점 이하인 경우\n",
        "  print(f'70점 이하이므로 불합격입니다.')\n",
        "  print(\"아쉽군요. 다음에 다시 한 번 더 도전해보세요.\")"
      ],
      "metadata": {
        "colab": {
          "base_uri": "https://localhost:8080/"
        },
        "id": "QDbzne-ehB3V",
        "outputId": "7adf3a52-365d-4a25-b09b-ac4f22f09b46"
      },
      "execution_count": null,
      "outputs": [
        {
          "output_type": "stream",
          "name": "stdout",
          "text": [
            "성적을 입력하시오.\n",
            "성적 입력: 80\n",
            "70점 이상이므로 합격입니다.\n",
            "축하합니다. 합격입니다.\n"
          ]
        }
      ]
    },
    {
      "cell_type": "markdown",
      "source": [
        "3. 근무 시간에 따라 초과 근무와 정상 근무를 판별하는 코드\n",
        "- 사용하는 코드: work_hour\n",
        "- 연산코드 : work_hour > 72"
      ],
      "metadata": {
        "id": "_Foak-ithwxs"
      }
    },
    {
      "cell_type": "code",
      "source": [
        "print(\"일한 시간을 입력하시오.\")\n",
        "work_hour = int(input(\"일한 시간 입력: \"))\n",
        "if work_hour > 72:                                # 일한 시간이 72시간을 초과하는 경우\n",
        "  print(\"#\"*20)\n",
        "  print(f'#초과 근무입니다.#')\n",
        "  print(\"#\"*20)\n",
        "else:                                            # 일한 시간이 72시간 이하인 경우\n",
        "  print(\"#\"*20)\n",
        "  print(f'#정상 근무입니다.#')\n",
        "  print(\"#\"*20)"
      ],
      "metadata": {
        "colab": {
          "base_uri": "https://localhost:8080/"
        },
        "id": "t-0deK47iKCk",
        "outputId": "234f6b5d-2d0c-4968-ad49-ec838e7773fd"
      },
      "execution_count": null,
      "outputs": [
        {
          "output_type": "stream",
          "name": "stdout",
          "text": [
            "일한 시간을 입력하시오.\n",
            "일한 시간 입력: 73\n",
            "####################\n",
            "#초과 근무입니다.#\n",
            "####################\n"
          ]
        }
      ]
    },
    {
      "cell_type": "markdown",
      "source": [
        "4. 짝수와 홀수를 판별하는 코드\n",
        " - 사용변수 : _num_\n",
        " - 코드 수식 : (_num_ % 2) != 0:"
      ],
      "metadata": {
        "id": "vcqPWHm1l370"
      }
    },
    {
      "cell_type": "code",
      "source": [
        "print(\"정수를 입력하시오.\")\n",
        "_num_ = int(input(\"정수 입력: \"))\n",
        "if (_num_ % 2) != 0:                         # 입력된 정수가 홀수인 경우\n",
        "  print(f'입력하신 {_num_}은 홀수입니다.')\n",
        "else:                                        # 입력된 정수가 짝수인 경우\n",
        "  print(f'입력하신 {_num_}은 짝수입니다.')"
      ],
      "metadata": {
        "colab": {
          "base_uri": "https://localhost:8080/"
        },
        "id": "fzmZWf5PmCtc",
        "outputId": "748e4b1c-2637-4899-c86f-d6fb8e0f1adf"
      },
      "execution_count": null,
      "outputs": [
        {
          "output_type": "stream",
          "name": "stdout",
          "text": [
            "정수를 입력하시오.\n",
            "정수 입력: 5\n",
            "입력하신 5은 홀수입니다.\n"
          ]
        }
      ]
    },
    {
      "cell_type": "markdown",
      "source": [
        "5. 사용자의 이름과 나이를 물어보고, 답변하는 코드\n",
        "- 사용변수 : name, age\n",
        "- 출력할 내용:\n",
        "  - 성명\n",
        "  - 나이 :20\n",
        "  - (1) 20살 이하: 프로그래밍을 배우는 최적의 나이입니다.\n",
        "  - (2) 20살 이상: 아직도 늦지 않았습니다.\n"
      ],
      "metadata": {
        "id": "gKyKdOxanF3Q"
      }
    },
    {
      "cell_type": "code",
      "source": [
        "print(\"귀하의 이름을 입력하시오.\")\n",
        "print(\"귀하의 나이를 입력하시오.\")\n",
        "name = (input(\"이름: \"))\n",
        "age = int(input(\"나이: \"))\n",
        "if age >= 20:                                        # 나이가 20세 이상인 경우\n",
        "  print(f'아직도 늦지 않았습니다.')\n",
        "else:\n",
        "  print(f'프로그래밍을 배우는 최적의 나이입니다.')   # 나이가 20세 미만인 경우"
      ],
      "metadata": {
        "colab": {
          "base_uri": "https://localhost:8080/"
        },
        "id": "Oy6buQ3An4Gs",
        "outputId": "28d781f4-94eb-4acd-f466-6eff180034fc"
      },
      "execution_count": null,
      "outputs": [
        {
          "output_type": "stream",
          "name": "stdout",
          "text": [
            "귀하의 이름을 입력하시오.\n",
            "귀하의 나이를 입력하시오.\n",
            "이름: 이가예\n",
            "나이: 20\n",
            "아직도 늦지 않았습니다.\n"
          ]
        }
      ]
    }
  ]
}