{
  "nbformat": 4,
  "nbformat_minor": 0,
  "metadata": {
    "colab": {
      "provenance": [],
      "authorship_tag": "ABX9TyMupxrbXs1mUiy7GXXsepra",
      "include_colab_link": true
    },
    "kernelspec": {
      "name": "python3",
      "display_name": "Python 3"
    },
    "language_info": {
      "name": "python"
    }
  },
  "cells": [
    {
      "cell_type": "markdown",
      "metadata": {
        "id": "view-in-github",
        "colab_type": "text"
      },
      "source": [
        "<a href=\"https://colab.research.google.com/github/LeeGa-ye/23python3rd/blob/main/calendar.ipynb\" target=\"_parent\"><img src=\"https://colab.research.google.com/assets/colab-badge.svg\" alt=\"Open In Colab\"/></a>"
      ]
    },
    {
      "cell_type": "code",
      "execution_count": null,
      "metadata": {
        "colab": {
          "base_uri": "https://localhost:8080/"
        },
        "id": "IUiC5770Y1zI",
        "outputId": "835f4ac7-0ec5-46e8-e1dd-fc936b15763f"
      },
      "outputs": [
        {
          "output_type": "stream",
          "name": "stdout",
          "text": [
            "    October 2023\n",
            "Mo Tu We Th Fr Sa Su\n",
            "                   1\n",
            " 2  3  4  5  6  7  8\n",
            " 9 10 11 12 13 14 15\n",
            "16 17 18 19 20 21 22\n",
            "23 24 25 26 27 28 29\n",
            "30 31\n",
            "\n"
          ]
        }
      ],
      "source": [
        "import calendar               # calendar 모듈 가져오기\n",
        "yy = 2023     #year           # 출력할 연도를 변수에 저장\n",
        "mm = 10       #month          # 출력할 월을 변수에 저장\n",
        "# dispaly thr calendar\n",
        "print(calendar.month(yy,mm))  # calendar.month(연도, 월) 함수는 주어진 연도와 월에 해당하는 달력을 반환하여 달력 출력\n",
        "#"
      ]
    },
    {
      "cell_type": "markdown",
      "source": [
        "1. 오늘의 투두리스트를 출력하라\n",
        "2023년 10월 19일 To Do List\n",
        "- 09:10~11:00 컴퓨팅적 사고와 기초 코딩\n",
        "-11:10~12:00\n",
        "-18:00"
      ],
      "metadata": {
        "id": "--9xRhJvaspy"
      }
    },
    {
      "cell_type": "code",
      "source": [
        "print(\"2023년 10월 19일 To Do List\")               # \"2023년 10월 19일 To Do List\"를 출력\n",
        "\n",
        "print(\"- 09:10~11:00 컴퓨팅적 사고와 기초 코딩 \")  # \"- 09:10~11:00 컴퓨팅적 사고와 기초 코딩\"을 출력\n",
        "print(\"- 11:10~12:00 아동건강교육\")                # \"- 11:10~12:00 아동건강교육\"을 출력\n",
        "print(\"- 12:10~13:10 점심\")                        # \"- 12:10~13:10 점심\"을 출력\n",
        "print(\"- 13:20~16:10 과제 및 시험 공부\")           # \"- 13:20~16:10 과제 및 시험 공부\"를 출력\n",
        "print(\"- 18:00 끝\")                                # \"- 18:00 끝\"을 출력"
      ],
      "metadata": {
        "colab": {
          "base_uri": "https://localhost:8080/"
        },
        "id": "_wiM-cDfa8O2",
        "outputId": "36670d5a-df16-444d-aaf9-e58f67978639"
      },
      "execution_count": null,
      "outputs": [
        {
          "output_type": "stream",
          "name": "stdout",
          "text": [
            "2023년 10월 19일 To Do List\n",
            "- 09:10~11:00 컴퓨팅적 사고와 기초 코딩 \n",
            "- 11:10~12:00 아동건강교육\n",
            "- 12:10~13:10 점심\n",
            "- 13:20~16:10 과제 및 시험 공부\n",
            "- 18:00 끝\n"
          ]
        }
      ]
    }
  ]
}