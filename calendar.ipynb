{
  "nbformat": 4,
  "nbformat_minor": 0,
  "metadata": {
    "colab": {
      "provenance": [],
      "authorship_tag": "ABX9TyOPI6Kt1h8t5nlBwDcuS7iz",
      "include_colab_link": true
    },
    "kernelspec": {
      "name": "python3",
      "display_name": "Python 3"
    },
    "language_info": {
      "name": "python"
    }
  },
  "cells": [
    {
      "cell_type": "markdown",
      "metadata": {
        "id": "view-in-github",
        "colab_type": "text"
      },
      "source": [
        "<a href=\"https://colab.research.google.com/github/LeeGa-ye/23python3rd/blob/main/calendar.ipynb\" target=\"_parent\"><img src=\"https://colab.research.google.com/assets/colab-badge.svg\" alt=\"Open In Colab\"/></a>"
      ]
    },
    {
      "cell_type": "code",
      "execution_count": null,
      "metadata": {
        "colab": {
          "base_uri": "https://localhost:8080/"
        },
        "id": "IUiC5770Y1zI",
        "outputId": "835f4ac7-0ec5-46e8-e1dd-fc936b15763f"
      },
      "outputs": [
        {
          "output_type": "stream",
          "name": "stdout",
          "text": [
            "    October 2023\n",
            "Mo Tu We Th Fr Sa Su\n",
            "                   1\n",
            " 2  3  4  5  6  7  8\n",
            " 9 10 11 12 13 14 15\n",
            "16 17 18 19 20 21 22\n",
            "23 24 25 26 27 28 29\n",
            "30 31\n",
            "\n"
          ]
        }
      ],
      "source": [
        "import calendar               # calendar 모듈 가져오기\n",
        "yy = 2023     #year           # 출력할 연도를 변수에 저장\n",
        "mm = 10       #month          # 출력할 월을 변수에 저장\n",
        "# dispaly thr calendar\n",
        "print(calendar.month(yy,mm))  # calendar.month(연도, 월) 함수는 주어진 연도와 월에 해당하는 달력을 반환하여 달력 출력"
      ]
    },
    {
      "cell_type": "markdown",
      "source": [
        "import calendar는 calendar 모듈을 가져오는 코드입니다. calendar 모듈은 달력과 관련된 다양한 기능을 제공합니다.\n",
        "yy = 2023는 출력할 연도를 변수 yy에 저장하는 코드입니다. 여기서는 2023년을 출력할 연도로 선택한 예시입니다.\n",
        "mm = 10는 출력할 월을 변수 mm에 저장하는 코드입니다. 여기서는 10월을 출력할 월로 선택한 예시입니다.\n",
        "print(calendar.month(yy, mm))는 calendar.month(연도, 월) 함수를 사용하여 주어진 연도와 월에 해당하는 달력을 반환하고 출력하는 코드입니다. calendar.month() 함수는 주어진 연도와 월에 해당하는 달력을 문자열 형태로 반환합니다.\n",
        "위의 코드는 calendar 모듈을 사용하여 주어진 연도와 월에 해당하는 달력을 출력하는 예제입니다. calendar.month() 함수를 호출하여 주어진 연도와 월에 해당하는 달력을 반환하고, print() 함수를 사용하여 반환된 달력을 출력합니다."
      ],
      "metadata": {
        "id": "eENBc-B-BSfY"
      }
    },
    {
      "cell_type": "markdown",
      "source": [
        "1. 오늘의 투두리스트를 출력하라\n",
        "2023년 10월 19일 To Do List\n",
        "- 09:10~11:00 컴퓨팅적 사고와 기초 코딩\n",
        "-11:10~12:00\n",
        "-18:00"
      ],
      "metadata": {
        "id": "--9xRhJvaspy"
      }
    },
    {
      "cell_type": "code",
      "source": [
        "print(\"2023년 10월 19일 To Do List\")               # \"2023년 10월 19일 To Do List\"를 출력\n",
        "\n",
        "print(\"- 09:10~11:00 컴퓨팅적 사고와 기초 코딩 \")  # \"- 09:10~11:00 컴퓨팅적 사고와 기초 코딩\"을 출력\n",
        "print(\"- 11:10~12:00 아동건강교육\")                # \"- 11:10~12:00 아동건강교육\"을 출력\n",
        "print(\"- 12:10~13:10 점심\")                        # \"- 12:10~13:10 점심\"을 출력\n",
        "print(\"- 13:20~16:10 과제 및 시험 공부\")           # \"- 13:20~16:10 과제 및 시험 공부\"를 출력\n",
        "print(\"- 18:00 끝\")                                # \"- 18:00 끝\"을 출력"
      ],
      "metadata": {
        "colab": {
          "base_uri": "https://localhost:8080/"
        },
        "id": "_wiM-cDfa8O2",
        "outputId": "36670d5a-df16-444d-aaf9-e58f67978639"
      },
      "execution_count": null,
      "outputs": [
        {
          "output_type": "stream",
          "name": "stdout",
          "text": [
            "2023년 10월 19일 To Do List\n",
            "- 09:10~11:00 컴퓨팅적 사고와 기초 코딩 \n",
            "- 11:10~12:00 아동건강교육\n",
            "- 12:10~13:10 점심\n",
            "- 13:20~16:10 과제 및 시험 공부\n",
            "- 18:00 끝\n"
          ]
        }
      ]
    },
    {
      "cell_type": "markdown",
      "source": [
        "print(\"2023년 10월 19일 To Do List\")는 \"2023년 10월 19일 To Do List\"라는 문장을 출력하는 코드입니다.\n",
        "print(\"- 09:10~11:00 컴퓨팅적 사고와 기초 코딩 \")은 \"- 09:10~11:00 컴퓨팅적 사고와 기초 코딩\"이라는 문장을 출력하는 코드입니다.\n",
        "print(\"- 11:10~12:00 아동건강교육\")은 \"- 11:10~12:00 아동건강교육\"이라는 문장을 출력하는 코드입니다.\n",
        "print(\"- 12:10~13:10 점심\")은 \"- 12:10~13:10 점심\"이라는 문장을 출력하는 코드입니다.\n",
        "print(\"- 13:20~16:10 과제 및 시험 공부\")은 \"- 13:20~16:10 과제 및 시험 공부\"라는 문장을 출력하는 코드입니다.\n",
        "print(\"- 18:00 끝\")은 \"- 18:00 끝\"이라는 문장을 출력하는 코드입니다.\n",
        "위의 코드는 2023년 10월 19일의 할 일 목록을 출력하는 예제입니다."
      ],
      "metadata": {
        "id": "1dGUMTQbBf3e"
      }
    }
  ]
}