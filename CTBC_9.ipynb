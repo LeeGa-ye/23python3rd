{
  "nbformat": 4,
  "nbformat_minor": 0,
  "metadata": {
    "colab": {
      "provenance": [],
      "authorship_tag": "ABX9TyPfBvKMiwIyOnNfxNX6pOnm",
      "include_colab_link": true
    },
    "kernelspec": {
      "name": "python3",
      "display_name": "Python 3"
    },
    "language_info": {
      "name": "python"
    }
  },
  "cells": [
    {
      "cell_type": "markdown",
      "metadata": {
        "id": "view-in-github",
        "colab_type": "text"
      },
      "source": [
        "<a href=\"https://colab.research.google.com/github/LeeGa-ye/23python3rd/blob/main/CTBC_9.ipynb\" target=\"_parent\"><img src=\"https://colab.research.google.com/assets/colab-badge.svg\" alt=\"Open In Colab\"/></a>"
      ]
    },
    {
      "cell_type": "markdown",
      "source": [
        "1. 두가지 이상의 선택, 다방향 선택구조 코딩\n",
        " - 배송료 처리 3가지로 코딩\n",
        " - 변수: price\n",
        " - 조건: 10만원 이상 배송비 0원, 2만원 이상은 3천원, 2만원 이하는 5천원"
      ],
      "metadata": {
        "id": "Y-XtVV93rwVK"
      }
    },
    {
      "cell_type": "code",
      "source": [
        "price = int(input(\"구입금액 입력: \"))          # 구입금액 입력 받기\n",
        "if price >= 100000:                            # 구입금액이 100,000원 이상인 경우\n",
        "  shopping_cost = 0                            # 배송료는 0원\n",
        "else:                                          # 구입금액이 100,000원 미만인 경우\n",
        "  if price >= 20000:                           # 구입금액이 20,000원 이상인 경우\n",
        "    shopping_cost = 3000                       # 배송료는 3,000원\n",
        "  else:                                        # 구입금액이 20,000원 미만인 경우\n",
        "    shopping_cost = 2000                       # 배송료는 2,000원\n",
        "print(f'배송료는 {shopping_cost}원 입니다.')   # 배송료 출력"
      ],
      "metadata": {
        "colab": {
          "base_uri": "https://localhost:8080/"
        },
        "id": "fRbzwxNasgud",
        "outputId": "42965394-a5c3-4320-ca87-d81239224dbc"
      },
      "execution_count": null,
      "outputs": [
        {
          "output_type": "stream",
          "name": "stdout",
          "text": [
            "구입금액 입력: 120000\n",
            "배송료는 0원 입니다.\n"
          ]
        }
      ]
    },
    {
      "cell_type": "markdown",
      "source": [
        "이 코드는 사용자로부터 구입금액을 입력받아 해당 구입금액에 따른 배송료를 계산하고 출력하는 예제입니다. 구입금액이 100,000원 이상이면 배송료가 없고, 20,000원 이상이면 3,000원, 그 외에는 2,000원의 배송료가 부과됩니다."
      ],
      "metadata": {
        "id": "cOQbebwx4a6g"
      }
    },
    {
      "cell_type": "markdown",
      "source": [
        "2. 반복구조를 이용한 \"환영합니다.\"를 5번 출력하는 코드 작성\n",
        " - 변수: Welcome\n",
        " - 출력내용: 환영합니다.를 세로로 5번, 10번, 30번"
      ],
      "metadata": {
        "id": "Ks2ljPibynKJ"
      }
    },
    {
      "cell_type": "code",
      "source": [
        "print(\"환영합니다.\")\n",
        "print(\"환영합니다.\")\n",
        "print(\"환영합니다.\")\n",
        "print(\"환영합니다.\")\n",
        "print(\"환영합니다.\")\n",
        "# \"환영합니다.\"라는 문장을 5번 반복해서 출력"
      ],
      "metadata": {
        "colab": {
          "base_uri": "https://localhost:8080/"
        },
        "id": "oFAZbdvzzF8q",
        "outputId": "7b5b440f-5b12-4a8e-c71a-f3f08575434b"
      },
      "execution_count": null,
      "outputs": [
        {
          "output_type": "stream",
          "name": "stdout",
          "text": [
            "환영합니다.\n",
            "환영합니다.\n",
            "환영합니다.\n",
            "환영합니다.\n",
            "환영합니다.\n"
          ]
        }
      ]
    },
    {
      "cell_type": "markdown",
      "source": [
        "print(\"환영합니다.\")는 \"환영합니다.\"를 출력하는 코드입니다.\n",
        "print() 함수를 사용하여 괄호 안에 있는 문자열을 화면에 출력합니다.\n",
        "위의 코드는 print(\"환영합니다.\")를 5번 반복하여 호출하므로, \"환영합니다.\"가 5번 출력됩니다.\n",
        "이 코드는 \"환영합니다.\"라는 메시지를 5번 출력하는 간단한 예제입니다."
      ],
      "metadata": {
        "id": "zfpXRJv84vhV"
      }
    },
    {
      "cell_type": "code",
      "source": [
        "print(\"환영합니다.\\n\" * 5)     # \"환영합니다.\"라는 문장을 5번 반복해서 출력"
      ],
      "metadata": {
        "colab": {
          "base_uri": "https://localhost:8080/"
        },
        "id": "TVjEV8HXzR9L",
        "outputId": "1f559341-1b1e-47f6-ecf6-ca6aa2e59dab"
      },
      "execution_count": null,
      "outputs": [
        {
          "output_type": "stream",
          "name": "stdout",
          "text": [
            "환영합니다.\n",
            "환영합니다.\n",
            "환영합니다.\n",
            "환영합니다.\n",
            "환영합니다.\n",
            "\n"
          ]
        }
      ]
    },
    {
      "cell_type": "markdown",
      "source": [
        "\"환영합니다.\" * 5는 문자열 \"환영합니다.\"를 5번 반복하는 연산입니다.\n",
        "* 연산자는 문자열을 반복할 때 사용됩니다. 숫자와 문자열을 곱하면 해당 문자열이 반복되어 결합됩니다.\n",
        "위의 코드에서는 \"환영합니다.\"를 5번 반복하여 같은 내용을 연결한 후, print() 함수를 사용하여 결과를 출력합니다.\n",
        "이 코드는 문자열 \"환영합니다.\"를 5번 반복하여 출력하는 예제입니다. \"환영합니다.\"가 5번 반복되어 \"환영합니다.환영합니다.환영합니다.환영합니다.환영합니다.\"라는 결과가 출력됩니다."
      ],
      "metadata": {
        "id": "GfHbxXPS47j2"
      }
    },
    {
      "cell_type": "code",
      "source": [
        "count = 1                                 # 초기값 설정\n",
        "while count <= 5:                         # count가 5보다 작거나 같은 동안 반복\n",
        "  print(\"(\", count, \")\",\"환영합니다.\")    # \"(\", count, \")\", \"환영합니다.\" 형식으로 출력\n",
        "  count = count + 1                       # count 값을 1 증가시킴"
      ],
      "metadata": {
        "colab": {
          "base_uri": "https://localhost:8080/"
        },
        "id": "xz4Zj_UbznpA",
        "outputId": "88814db7-0494-4cd7-b76e-96116a712c03"
      },
      "execution_count": null,
      "outputs": [
        {
          "output_type": "stream",
          "name": "stdout",
          "text": [
            "( 1 ) 환영합니다.\n",
            "( 2 ) 환영합니다.\n",
            "( 3 ) 환영합니다.\n",
            "( 4 ) 환영합니다.\n",
            "( 5 ) 환영합니다.\n"
          ]
        }
      ]
    },
    {
      "cell_type": "markdown",
      "source": [
        "count = 1은 변수 count를 1로 초기화하는 코드입니다.\n",
        "while count <= 5:는 count가 5보다 작거나 같은 동안 반복하는 반복문입니다.\n",
        "print(\"(\", count, \")\", \"환영합니다.\")는 count와 \"환영합니다.\"를 함께 출력하는 코드입니다. print() 함수를 사용하여 괄호 안에 있는 변수와 문자열을 화면에 출력합니다.\n",
        "count = count + 1은 count 값을 1 증가시키는 코드입니다. 이 코드를 통해 반복문이 실행될 때마다 count의 값이 1씩 증가합니다.\n",
        "위의 코드는 반복문과 변수를 사용하여 \"환영합니다.\"를 1부터 5까지 번호와 함께 출력하는 예제입니다. 반복문을 사용하여 동일한 작업을 여러 번 반복할 수 있습니다. 초기값으로 설정된 count가 5보다 작거나 같은 동안 반복하며, 각 반복마다 count의 값이 1씩 증가합니다."
      ],
      "metadata": {
        "id": "KqDG6D365QHq"
      }
    },
    {
      "cell_type": "markdown",
      "source": [
        "3. 0부터 9까지 출력하는 코드 작성\n",
        " -  변수: x"
      ],
      "metadata": {
        "id": "4GuAJn7k1h0S"
      }
    },
    {
      "cell_type": "code",
      "source": [
        "x = 0                   # 변수 x를 0으로 초기화\n",
        "while x < 10:           # x가 10보다 작을 때까지 반복\n",
        "  #print(x)             # x를 출력하는 부분\n",
        "  print(x, end=' ')     # 주석 처리된 print(x) 대신, x를 출력하고 공백을 추가하여 출력\n",
        "  x = x + 1             # x 값을 1 증가"
      ],
      "metadata": {
        "colab": {
          "base_uri": "https://localhost:8080/"
        },
        "id": "gNOBYs_G5vEu",
        "outputId": "ff53c8b9-e793-403a-c9ea-3187562451f2"
      },
      "execution_count": null,
      "outputs": [
        {
          "output_type": "stream",
          "name": "stdout",
          "text": [
            "0 1 2 3 4 5 6 7 8 9 "
          ]
        }
      ]
    },
    {
      "cell_type": "markdown",
      "source": [
        "x = 0은 변수 x를 0으로 초기화하는 코드입니다.\n",
        "while x < 10:는 x가 10보다 작은 동안 반복하는 반복문입니다.\n",
        "print(x, end=' ')는 x를 출력하는 코드입니다. print() 함수를 사용하여 x의 값을 화면에 출력합니다. end=' '를 통해 출력 후 줄바꿈 대신 공백을 사용합니다.\n",
        "x = x + 1은 x 값을 1 증가시키는 코드입니다. 이를 통해 반복문이 실행될 때마다 x의 값이 1씩 증가합니다.\n",
        "위의 코드는 반복문을 사용하여 0부터 9까지의 숫자를 출력하는 예제입니다. 초기값으로 설정된 x가 10보다 작은 동안 반복하며, 각 반복마다 x의 값이 1씩 증가합니다. print(x, end=' ')을 통해 x의 값을 출력하고, 출력 후 줄바꿈 대신 공백을 사용하여 숫자가 한 줄에 출력됩니다."
      ],
      "metadata": {
        "id": "M-1lee0A5Yg1"
      }
    },
    {
      "cell_type": "code",
      "source": [
        "x = 0                   # 변수 x를 0으로 초기화\n",
        "while x <= 9:           # x가 9보다 작거나 같을 때까지 반복\n",
        "  print(x, end=' ')     # x를 출력하고 공백을 추가하여 출력\n",
        "  x += 1                # x 값을 1 증가"
      ],
      "metadata": {
        "colab": {
          "base_uri": "https://localhost:8080/"
        },
        "id": "r7Xe6OGI56Eq",
        "outputId": "e4a00670-ab61-4886-8eec-6925f1504510"
      },
      "execution_count": null,
      "outputs": [
        {
          "output_type": "stream",
          "name": "stdout",
          "text": [
            "0 1 2 3 4 5 6 7 8 9 "
          ]
        }
      ]
    },
    {
      "cell_type": "markdown",
      "source": [
        "x = 0은 변수 x를 0으로 초기화하는 코드입니다.\n",
        "while x <= 9:는 x가 9 이하인 동안 반복하는 반복문입니다.\n",
        "print(x, end=' ')는 x를 출력하는 코드입니다. print() 함수를 사용하여 x의 값을 화면에 출력합니다. end=' '를 통해 출력 후 줄바꿈 대신 공백을 사용합니다.\n",
        "x += 1은 x 값을 1 증가시키는 코드입니다. += 연산자를 사용하여 x에 1을 더한 값을 다시 x에 할당합니다."
      ],
      "metadata": {
        "id": "UpItACcV6KEk"
      }
    },
    {
      "cell_type": "markdown",
      "source": [
        "4. 1부터 10까지 합산하는 코드 작성"
      ],
      "metadata": {
        "id": "YZD9lUK63F99"
      }
    },
    {
      "cell_type": "code",
      "source": [
        "x = 1                  # 변수 x를 1로 초기화\n",
        "total = 0              # 변수 total을 0으로 초기화\n",
        "while x <= 10:         # x가 10보다 작거나 같을 때까지 반복\n",
        "  total += x           # total에 x를 더한다\n",
        "  #total = total +1    # 주석 처리된 total = total + 1 대신에 total += x를 사용하여 x를 total에 더한다\n",
        "  #x = x + 1           # 변수 total을 0으로 초기화\n",
        "  x +=1                # x를 1씩 증가시킨다\n",
        "print(total)           # total을 출력"
      ],
      "metadata": {
        "colab": {
          "base_uri": "https://localhost:8080/"
        },
        "id": "JN4p0wZb3KTb",
        "outputId": "3d5d0ce0-b88e-4e64-affd-3c4428b1369f"
      },
      "execution_count": null,
      "outputs": [
        {
          "output_type": "stream",
          "name": "stdout",
          "text": [
            "55\n"
          ]
        }
      ]
    },
    {
      "cell_type": "markdown",
      "source": [
        "x = 1은 변수 x를 1로 초기화하는 코드입니다.\n",
        "total = 0은 변수 total을 0으로 초기화하는 코드입니다.\n",
        "while x <= 10:는 x가 10보다 작거나 같은 동안 반복하는 반복문입니다.\n",
        "total += x는 total에 x를 더하는 코드입니다. += 연산자를 사용하여 x를 total에 더한 값을 다시 total에 할당합니다.\n",
        "x += 1은 x 값을 1 증가시키는 코드입니다. 이를 통해 반복문이 실행될 때마다 x의 값이 1씩 증가합니다.\n",
        "print(total)은 최종적으로 total의 값, 즉 1부터 10까지의 숫자를 더한 결과를 출력합니다."
      ],
      "metadata": {
        "id": "UYXjjwri6p0z"
      }
    },
    {
      "cell_type": "markdown",
      "source": [
        "5. 3-6-9 게임(3의 배수 판단): 3의 배수를 3으로 나누면 나머지가 0이 되므로(i mod 3)의 값이 0이면 박수를 출력, 아니면 숫자를 출력하는 코드"
      ],
      "metadata": {
        "id": "B0eVcIJf4MgF"
      }
    },
    {
      "cell_type": "code",
      "source": [
        "for num in range(1, 21):     # 1부터 20까지의 숫자에 대해 반복\n",
        "  if num % 3 == 0:           # num이 3의 배수인지 확인\n",
        "    print(\"박수\", end=' ')   # 3의 배수인 경우 \"박수\"를 출력하고 공백을 추가하여 출력\n",
        "  else:                      # 3의 배수가 아닌 경우\n",
        "    print(num, end=' ')      # num을 출력하고 공백을 추가하여 출력"
      ],
      "metadata": {
        "colab": {
          "base_uri": "https://localhost:8080/"
        },
        "id": "leRRiLx04qck",
        "outputId": "15662635-709c-4dcb-9700-8857b8b01566"
      },
      "execution_count": null,
      "outputs": [
        {
          "output_type": "stream",
          "name": "stdout",
          "text": [
            "1 2 박수 4 5 박수 7 8 박수 10 11 박수 13 14 박수 16 17 박수 19 20 "
          ]
        }
      ]
    },
    {
      "cell_type": "markdown",
      "source": [
        "for num in range(1, 21):은 1부터 20까지의 숫자에 대해 반복하는 반복문입니다.\n",
        "if num % 3 == 0:은 num이 3의 배수인지 확인하는 조건문입니다. % 연산자를 사용하여 num을 3으로 나눈 나머지가 0인지 확인합니다.\n",
        "print(\"박수\", end=' ')는 3의 배수인 경우 \"박수\"를 출력하고 공백을 추가하여 출력하는 코드입니다. end=' '를 통해 출력 후 줄바꿈 대신 공백을 사용합니다.\n",
        "else:는 3의 배수가 아닌 경우를 처리하는 부분입니다.\n",
        "print(num, end=' ')는 num을 출력하고 공백을 추가하여 출력하는 코드입니다."
      ],
      "metadata": {
        "id": "9voOCGif68u_"
      }
    },
    {
      "cell_type": "code",
      "source": [
        "num = 1                      # 변수 num을 1로 초기화\n",
        "while num <= 20:             # num이 20보다 작거나 같을 때까지 반복\n",
        "  if num % 3 == 0:           # num이 3의 배수인지 확인\n",
        "    print(\"박수\", end=' ')   # 3의 배수인 경우 \"박수\"를 출력하고 공백을 추가하여 출력\n",
        "  else:                      # 3의 배수가 아닌 경우\n",
        "    print(num, end=' ')      # num을 출력하고 공백을 추가하여 출력\n",
        "  num += 1                   # num을 1씩 증가"
      ],
      "metadata": {
        "colab": {
          "base_uri": "https://localhost:8080/"
        },
        "id": "KLpRcAfa5Ws2",
        "outputId": "8e99f568-3746-49c7-c4a5-0ad37e8db7d1"
      },
      "execution_count": null,
      "outputs": [
        {
          "output_type": "stream",
          "name": "stdout",
          "text": [
            "1 2 박수 4 5 박수 7 8 박수 10 11 박수 13 14 박수 16 17 박수 19 20 박수 22 23 박수 25 26 박수 28 29 박수 "
          ]
        }
      ]
    },
    {
      "cell_type": "markdown",
      "source": [
        "num = 1은 변수 num을 1로 초기화하는 코드입니다.\n",
        "while num <= 20:는 num이 20보다 작거나 같은 동안 반복하는 반복문입니다.\n",
        "if num % 3 == 0:는 num이 3의 배수인지 확인하는 조건문입니다. % 연산자를 사용하여 num을 3으로 나눈 나머지가 0인지 확인합니다.\n",
        "print(\"박수\", end=' ')는 3의 배수인 경우 \"박수\"를 출력하고 공백을 추가하여 출력하는 코드입니다. end=' '를 통해 출력 후 줄바꿈 대신 공백을 사용합니다.\n",
        "else:는 3의 배수가 아닌 경우를 처리하는 부분입니다.\n",
        "print(num, end=' ')는 num을 출력하고 공백을 추가하여 출력하는 코드입니다.\n",
        "num += 1은 num 값을 1 증가시키는 코드입니다. 이를 통해 반복문이 실행될 때마다 num의 값이 1씩 증가합니다."
      ],
      "metadata": {
        "id": "1QYyUs7-7JQe"
      }
    },
    {
      "cell_type": "markdown",
      "source": [
        "6. 팩토리얼 계산하는 코드 작성\n",
        " - 1! = 1, 2!=2(1) 3!=3(2)(1)=6"
      ],
      "metadata": {
        "id": "Yhllt3Okb3E1"
      }
    },
    {
      "cell_type": "code",
      "source": [
        "i = 5               # 변수 i를 5로 초기화\n",
        "factorial = 1       # 변수 factorial을 1로 초기화\n",
        "while i >= 1:       # i가 1 이상일 때까지 반복\n",
        "  factorial *= i    # factorial에 i를 곱한\n",
        "  i -= 1            # i를 1씩 감소\n",
        "print(factorial)    # factorial을 출력"
      ],
      "metadata": {
        "colab": {
          "base_uri": "https://localhost:8080/"
        },
        "id": "t1otnNBpcvRn",
        "outputId": "58d16ab8-548e-47d1-ca8f-fe8b270685f2"
      },
      "execution_count": null,
      "outputs": [
        {
          "output_type": "stream",
          "name": "stdout",
          "text": [
            "120\n"
          ]
        }
      ]
    },
    {
      "cell_type": "markdown",
      "source": [
        "i = 5는 변수 i를 5로 초기화하는 코드입니다.\n",
        "factorial = 1은 변수 factorial을 1로 초기화하는 코드입니다.\n",
        "while i >= 1:은 i가 1 이상일 때까지 반복하는 반복문입니다.\n",
        "factorial *= i는 factorial에 i를 곱하는 코드입니다. *= 연산자를 사용하여 factorial에 i를 곱한 값을 다시 factorial에 할당합니다.\n",
        "i -= 1은 i 값을 1씩 감소시키는 코드입니다. 이를 통해 반복문이 실행될 때마다 i의 값이 1씩 감소합니다.\n",
        "print(factorial)은 최종적으로 factorial의 값, 즉 5부터 1까지의 숫자를 곱한 결과를 출력합니다."
      ],
      "metadata": {
        "id": "e7eGccxV7Uaj"
      }
    },
    {
      "cell_type": "code",
      "source": [
        "# 계산할 숫자를 입력받는다.\n",
        "num = int(input(\"팩토리얼을 계산할 숫자를 입력하시오.: \"))\n",
        "\n",
        "# 초기값으로 1을 설정한다.\n",
        "factorial = 1\n",
        "\n",
        "# 팩토리얼 계산을 위한 반복문인 while 이다.\n",
        "while num >=1:                  # num값이 1보다 크거나 같을 때 하위 문장(코드)를 진행한다.\n",
        "  factorial = factorial * num   # 현재 num값을 factorial 값에 곱한다.\n",
        "  num -= 1                      # num값을 1씩 감소시킨다\n",
        "\n",
        "print(f'계산된 팩토리얼 값은 {factorial} 입니다.') # 팩토리얼 값 출력"
      ],
      "metadata": {
        "colab": {
          "base_uri": "https://localhost:8080/"
        },
        "id": "LRN1KjcfczSV",
        "outputId": "afa89c2a-f135-4552-f2b4-ebe970ec166f"
      },
      "execution_count": null,
      "outputs": [
        {
          "output_type": "stream",
          "name": "stdout",
          "text": [
            "팩토리얼을 계산할 숫자를 입력하시오.: 5\n",
            "계산된 팩토리얼 값은 120 입니다.\n"
          ]
        }
      ]
    },
    {
      "cell_type": "markdown",
      "source": [
        "num = int(input(\"팩토리얼을 계산할 숫자를 입력하시오.: \"))는 사용자로부터 팩토리얼을 계산할 숫자를 입력받는 코드입니다. input() 함수를 사용하여 사용자로부터 입력을 받고, int() 함수를 사용하여 입력된 값을 정수로 변환합니다.\n",
        "factorial = 1은 변수 factorial을 1로 초기화하는 코드입니다. 이 변수는 팩토리얼 값을 저장할 변수로 사용됩니다.\n",
        "while num >= 1:는 num값이 1보다 크거나 같을 때까지 반복하는 반복문입니다.\n",
        "factorial = factorial * num은 현재의 num값을 factorial에 곱하는 코드입니다. 이를 통해 팩토리얼 값을 계산할 수 있습니다.\n",
        "num -= 1은 num값을 1씩 감소시키는 코드입니다. 이를 통해 반복문이 실행될 때마다 num의 값이 1씩 감소합니다.\n",
        "print(f'계산된 팩토리얼 값은 {factorial} 입니다.')는 계산된 팩토리얼 값을 출력하는 코드입니다. f-string을 사용하여 출력 문자열 내에 변수 factorial의 값을 포맷팅하여 출력합니다."
      ],
      "metadata": {
        "id": "sZGo2NWH7mFA"
      }
    },
    {
      "cell_type": "markdown",
      "source": [
        "7. 구구단을 출력해주는 코드 작성\n",
        " - 변수 :dan\n",
        " - 반복문(1): for문 사용\n",
        " - 반복문(2): while문 사용"
      ],
      "metadata": {
        "id": "Veo2nXIpfH40"
      }
    },
    {
      "cell_type": "code",
      "source": [
        "# for문 사용\n",
        "dan = int(input(\"구구단에서 몇 단을 출력할까요: \"))\n",
        "for i in range(1,10):                                   # 1부터 9까지 반복\n",
        "    print(dan, \"x\", i, \"=\", dan * i)                    # 구구단 계산 결과를 출력"
      ],
      "metadata": {
        "colab": {
          "base_uri": "https://localhost:8080/"
        },
        "id": "vgisSqotfQ_s",
        "outputId": "6a55949b-739d-4c9a-f40f-1e25e94ea959"
      },
      "execution_count": null,
      "outputs": [
        {
          "output_type": "stream",
          "name": "stdout",
          "text": [
            "구구단에서 몇 단을 출력할까요: 4\n",
            "4 x 1 = 4\n",
            "4 x 2 = 8\n",
            "4 x 3 = 12\n",
            "4 x 4 = 16\n",
            "4 x 5 = 20\n",
            "4 x 6 = 24\n",
            "4 x 7 = 28\n",
            "4 x 8 = 32\n",
            "4 x 9 = 36\n"
          ]
        }
      ]
    },
    {
      "cell_type": "markdown",
      "source": [
        "dan = int(input(\"구구단에서 몇 단을 출력할까요: \"))는 사용자로부터 구구단에서 몇 단을 출력할지 입력받는 코드입니다. input() 함수를 사용하여 사용자로부터 입력을 받고, int() 함수를 사용하여 입력된 값을 정수로 변환합니다.\n",
        "for i in range(1, 10):는 1부터 9까지의 숫자에 대해 반복하는 반복문입니다. range(1, 10)은 1부터 9까지의 숫자 범위를 생성합니다.\n",
        "print(dan, \"x\", i, \"=\", dan * i)는 구구단의 계산식을 출력하는 코드입니다. dan은 사용자로부터 입력받은 단의 숫자이며, i는 1부터 9까지의 숫자를 나타냅니다. dan * i는 구구단에서의 곱셈 연산을 수행한 결과를 나타냅니다. 출력은 dan, i, dan * i 값을 공백과 함께 출력하여 구구단의 계산식을 표현합니다.\n",
        "위의 코드는 입력된 숫자에 해당하는 구구단을 출력하는 예제입니다. 입력된 숫자를 dan 변수에 저장한 후, 1부터 9까지의 숫자에 대해 반복하여 구구단의 계산식을 출력합니다."
      ],
      "metadata": {
        "id": "KbFmriVJ79GQ"
      }
    },
    {
      "cell_type": "code",
      "source": [
        "# while문 사용\n",
        "dan = int(input(\"구구단에서 몇 단을 출력할래?: \"))\n",
        "i = 1                                                   # i가 9보다 작거나 같을 때까지 반복\n",
        "while i <= 9:\n",
        "    print(dan, \"x\", i, \"=\", dan * i)                    # 구구단 계산 결과를 출력\n",
        "    i += 1                                              # i를 1씩 증가"
      ],
      "metadata": {
        "colab": {
          "base_uri": "https://localhost:8080/"
        },
        "id": "18beb6NSf5Dl",
        "outputId": "3bcc0fd5-62f6-4151-bfad-f086dd0e883d"
      },
      "execution_count": null,
      "outputs": [
        {
          "output_type": "stream",
          "name": "stdout",
          "text": [
            "구구단에서 몇 단을 출력할래?: 4\n",
            "4 x 1 = 4\n",
            "4 x 2 = 8\n",
            "4 x 3 = 12\n",
            "4 x 4 = 16\n",
            "4 x 5 = 20\n",
            "4 x 6 = 24\n",
            "4 x 7 = 28\n",
            "4 x 8 = 32\n",
            "4 x 9 = 36\n"
          ]
        }
      ]
    },
    {
      "cell_type": "markdown",
      "source": [
        "dan = int(input(\"구구단에서 몇 단을 출력할래?: \"))는 사용자로부터 구구단에서 몇 단을 출력할지 입력받는 코드입니다. input() 함수를 사용하여 사용자로부터 입력을 받고, int() 함수를 사용하여 입력된 값을 정수로 변환합니다.\n",
        "i = 1은 변수 i를 1로 초기화하는 코드입니다. 이 변수는 반복문에서 사용될 변수로, 구구단의 곱하는 수를 나타냅니다.\n",
        "while i <= 9:는 i가 9보다 작거나 같을 때까지 반복하는 반복문입니다.\n",
        "print(dan, \"x\", i, \"=\", dan * i)는 구구단의 계산식을 출력하는 코드입니다. dan은 사용자로부터 입력받은 단의 숫자이며, i는 1부터 9까지의 숫자를 나타냅니다. dan * i는 구구단에서의 곱셈 연산을 수행한 결과를 나타냅니다. 출력은 dan, i, dan * i 값을 공백과 함께 출력하여 구구단의 계산식을 표현합니다.\n",
        "i += 1은 i 값을 1씩 증가시키는 코드입니다. 이를 통해 반복문이 실행될 때마다 i의 값이 1씩 증가합니다.\n",
        "위의 코드는 입력된 숫자에 해당하는 구구단을 출력하는 예제입니다. 입력된 숫자를 dan 변수에 저장한 후, 1부터 9까지의 숫자에 대해 반복하여 구구단의 계산식을 출력합니다."
      ],
      "metadata": {
        "id": "ciua8Y_Q8KHv"
      }
    }
  ]
}