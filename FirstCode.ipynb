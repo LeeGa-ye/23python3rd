{
  "nbformat": 4,
  "nbformat_minor": 0,
  "metadata": {
    "colab": {
      "provenance": [],
      "authorship_tag": "ABX9TyOsmoQKX9DJs8Hy2Xo4bQPE",
      "include_colab_link": true
    },
    "kernelspec": {
      "name": "python3",
      "display_name": "Python 3"
    },
    "language_info": {
      "name": "python"
    }
  },
  "cells": [
    {
      "cell_type": "markdown",
      "metadata": {
        "id": "view-in-github",
        "colab_type": "text"
      },
      "source": [
        "<a href=\"https://colab.research.google.com/github/LeeGa-ye/23python3rd/blob/main/FirstCode.ipynb\" target=\"_parent\"><img src=\"https://colab.research.google.com/assets/colab-badge.svg\" alt=\"Open In Colab\"/></a>"
      ]
    },
    {
      "cell_type": "markdown",
      "source": [
        "1. 나의 생에 첫 번째 코드"
      ],
      "metadata": {
        "id": "dERuq0BmH6Yq"
      }
    },
    {
      "cell_type": "code",
      "execution_count": null,
      "metadata": {
        "colab": {
          "base_uri": "https://localhost:8080/"
        },
        "id": "t0bv-3RuFvQQ",
        "outputId": "530da630-62ae-4031-c904-29759293eb4c"
      },
      "outputs": [
        {
          "output_type": "stream",
          "name": "stdout",
          "text": [
            "hello world!\n"
          ]
        }
      ],
      "source": [
        "print(\"hello world!\")    # hello world!를 출력"
      ]
    },
    {
      "cell_type": "markdown",
      "source": [
        "print(\"hello world!\")는 파이썬의 내장 함수인 print()를 사용하여 \"hello world!\"를 출력하는 코드입니다.\n",
        "print() 함수는 괄호 안에 있는 값을 화면에 출력합니다. 따라서 위의 코드는 \"hello world!\"를 출력하게 됩니다."
      ],
      "metadata": {
        "id": "lspSJTt63g4I"
      }
    },
    {
      "cell_type": "markdown",
      "source": [
        "2. 두 번째 코딩"
      ],
      "metadata": {
        "id": "qkTin2cZKatT"
      }
    },
    {
      "cell_type": "markdown",
      "source": [],
      "metadata": {
        "id": "-7v5nJ3d3hqc"
      }
    },
    {
      "cell_type": "code",
      "source": [
        "print(5+5,6-2,6*5,9/3)  # 숫자 연산을 수행하여 결과를 출력하는 코드"
      ],
      "metadata": {
        "colab": {
          "base_uri": "https://localhost:8080/"
        },
        "id": "FwoAsEpXLAW7",
        "outputId": "b5ea2304-6e06-4351-d3e3-1c7e00cd07ed"
      },
      "execution_count": null,
      "outputs": [
        {
          "output_type": "stream",
          "name": "stdout",
          "text": [
            "10 4 30 3.0\n"
          ]
        }
      ]
    },
    {
      "cell_type": "markdown",
      "source": [
        "print(5+5, 6-2, 6*5, 9/3)는 숫자 연산 결과를 출력하는 코드입니다.\n",
        "5+5는 두 개의 숫자 5를 더한 결과인 10을 의미합니다.\n",
        "6-2는 숫자 6에서 숫자 2를 뺀 결과인 4를 의미합니다.\n",
        "6*5는 숫자 6과 숫자 5를 곱한 결과인 30을 의미합니다.\n",
        "9/3는 숫자 9를 숫자 3으로 나눈 결과인 3.0을 의미합니다. 파이썬에서 나눗셈 연산은 기본적으로 부동 소수점 결과를 반환합니다."
      ],
      "metadata": {
        "id": "dDSgiRdL3yPN"
      }
    }
  ]
}