{
  "nbformat": 4,
  "nbformat_minor": 0,
  "metadata": {
    "colab": {
      "provenance": [],
      "authorship_tag": "ABX9TyMO4Qs+rLKFL0PlWpwpGT+B",
      "include_colab_link": true
    },
    "kernelspec": {
      "name": "python3",
      "display_name": "Python 3"
    },
    "language_info": {
      "name": "python"
    }
  },
  "cells": [
    {
      "cell_type": "markdown",
      "metadata": {
        "id": "view-in-github",
        "colab_type": "text"
      },
      "source": [
        "<a href=\"https://colab.research.google.com/github/LeeGa-ye/23python3rd/blob/main/FirstCode.ipynb\" target=\"_parent\"><img src=\"https://colab.research.google.com/assets/colab-badge.svg\" alt=\"Open In Colab\"/></a>"
      ]
    },
    {
      "cell_type": "markdown",
      "source": [
        "1. 나의 생에 첫 번째 코드"
      ],
      "metadata": {
        "id": "dERuq0BmH6Yq"
      }
    },
    {
      "cell_type": "code",
      "execution_count": null,
      "metadata": {
        "colab": {
          "base_uri": "https://localhost:8080/"
        },
        "id": "t0bv-3RuFvQQ",
        "outputId": "530da630-62ae-4031-c904-29759293eb4c"
      },
      "outputs": [
        {
          "output_type": "stream",
          "name": "stdout",
          "text": [
            "hello world!\n"
          ]
        }
      ],
      "source": [
        "print(\"hello world!\")    # hello world!를 출력"
      ]
    },
    {
      "cell_type": "markdown",
      "source": [
        "2. 두 번째 코딩"
      ],
      "metadata": {
        "id": "qkTin2cZKatT"
      }
    },
    {
      "cell_type": "code",
      "source": [
        "print(5+5,6-2,6*5,9/3).  # 숫자 연산을 수행하여 결과를 출력하는 코드"
      ],
      "metadata": {
        "colab": {
          "base_uri": "https://localhost:8080/"
        },
        "id": "FwoAsEpXLAW7",
        "outputId": "b5ea2304-6e06-4351-d3e3-1c7e00cd07ed"
      },
      "execution_count": null,
      "outputs": [
        {
          "output_type": "stream",
          "name": "stdout",
          "text": [
            "10 4 30 3.0\n"
          ]
        }
      ]
    }
  ]
}