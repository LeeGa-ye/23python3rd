{
  "cells": [
    {
      "cell_type": "markdown",
      "metadata": {
        "id": "view-in-github",
        "colab_type": "text"
      },
      "source": [
        "<a href=\"https://colab.research.google.com/github/LeeGa-ye/23python3rd/blob/main/CTAB_7_1.ipynb\" target=\"_parent\"><img src=\"https://colab.research.google.com/assets/colab-badge.svg\" alt=\"Open In Colab\"/></a>"
      ]
    },
    {
      "cell_type": "markdown",
      "metadata": {
        "id": "rcfbMIQVnu38"
      },
      "source": [
        "1. 일한 시간과 시급을 계산하여 출력하는 코드\n",
        " - 일한시간(hours_worked)\n",
        " - 일한날짜(day_worked)\n",
        " - 시급(pay_rate)\n",
        " - 월급(monthly_pay)"
      ]
    },
    {
      "cell_type": "code",
      "execution_count": null,
      "metadata": {
        "colab": {
          "base_uri": "https://localhost:8080/"
        },
        "id": "XXAJiBRApD51",
        "outputId": "a247956f-ce25-4aef-c10f-92fadfeabcaf"
      },
      "outputs": [
        {
          "name": "stdout",
          "output_type": "stream",
          "text": [
            "일한 시간을 입력하시오.: 10\n",
            "시급을 입력하시오.(23년 시급 9620원): 9620\n",
            "일한 날짜를 입력하시오.: 25\n",
            "일한시간은 10시간 이며, 시급은 9620원이고, 월급여는 2405000원 입니다.\n"
          ]
        }
      ],
      "source": [
        "hours_worked = int(input(\"일한 시간을 입력하시오.: \"))                                                   # 사용자로부터 일한 시간을 입력받아 정수형으로 변환하여 변수에 저장\n",
        "pay_rate = int(input(\"시급을 입력하시오.(23년 시급 9620원): \"))                                          # 사용자로부터 시급을 입력받아 정수형으로 변환하여 변수에 저장\n",
        "day_worked = int(input(\"일한 날짜를 입력하시오.: \"))                                                     # 사용자로부터 일한 날짜를 입력받아 정수형으로 변환하여 변수에 저장\n",
        "day_month = hours_worked * day_worked                                                                    # 하루에 일한 시간과 일한 날짜를 곱하여 월별 총 일한 시간을 계산\n",
        "monthly_pay = hours_worked * pay_rate * day_worked                                                       # 하루에 일한 시간, 시급, 일한 날짜를 곱하여 월급을 계산\n",
        "print(f'일한시간은 {hours_worked}시간 이며, 시급은 {pay_rate}원이고, 월급여는 {monthly_pay}원 입니다.')  # 월급과 관련된 정보를 출력"
      ]
    },
    {
      "cell_type": "markdown",
      "source": [
        "hours_worked = int(input(\"일한 시간을 입력하시오.: \"))는 사용자로부터 일한 시간을 입력받아 정수형으로 변환하여 hours_worked 변수에 저장하는 코드입니다. input() 함수를 사용하여 사용자로부터 입력을 받고, int() 함수를 사용하여 입력된 값을 정수로 변환합니다.\n",
        "pay_rate = int(input(\"시급을 입력하시오.(23년 시급 9620원): \"))는 사용자로부터 시급을 입력받아 정수형으로 변환하여 pay_rate 변수에 저장하는 코드입니다. input() 함수를 사용하여 사용자로부터 입력을 받고, int() 함수를 사용하여 입력된 값을 정수로 변환합니다.\n",
        "day_worked = int(input(\"일한 날짜를 입력하시오.: \"))는 사용자로부터 일한 날짜를 입력받아 정수형으로 변환하여 day_worked 변수에 저장하는 코드입니다. input() 함수를 사용하여 사용자로부터 입력을 받고, int() 함수를 사용하여 입력된 값을 정수로 변환합니다.\n",
        "day_month = hours_worked * day_worked는 하루에 일한 시간과 일한 날짜를 곱하여 월별 총 일한 시간을 계산하는 코드입니다. 이 값을 day_month 변수에 저장합니다.\n",
        "monthly_pay = hours_worked * pay_rate * day_worked는 하루에 일한 시간, 시급, 일한 날짜를 곱하여 월급을 계산하는 코드입니다. 이 값을 monthly_pay 변수에 저장합니다.\n",
        "print(f'일한시간은 {hours_worked}시간 이며, 시급은 {pay_rate}원이고, 월급여는 {monthly_pay}원 입니다.')는 월급과 관련된 정보를 출력하는 코드입니다. f-string을 사용하여 출력 문자열 내에 변수들의 값을 포맷팅하여 출력합니다.\n",
        "위의 코드는 사용자로부터 일한 시간, 시급, 일한 날짜를 입력받아 월급과 관련된 정보를 계산하고 출력하는 예제입니다. 입력된 값을 바탕으로 하루에 일한 시간과 일한 날짜를 곱하여 월별 총 일한 시간을 계산하고, 하루에 일한 시간, 시급, 일한 날짜를 곱하여 월급을 계산합니다."
      ],
      "metadata": {
        "id": "3VtHr6a98wrS"
      }
    },
    {
      "cell_type": "markdown",
      "metadata": {
        "id": "RtKRl2dfulqJ"
      },
      "source": [
        "2. 환하는 코드를 작성\n",
        " - 변수 won, usd, exchange\n",
        " - 계산 won * usd"
      ]
    },
    {
      "cell_type": "code",
      "execution_count": null,
      "metadata": {
        "colab": {
          "base_uri": "https://localhost:8080/"
        },
        "id": "Pwtkaiupx795",
        "outputId": "99d9ca83-9066-4f48-f078-4b238b4579e0"
      },
      "outputs": [
        {
          "name": "stdout",
          "output_type": "stream",
          "text": [
            "환전할 달러를 입력: 500\n",
            "달러의 환율금액을 입력(231031: 1372원)1372\n",
            "환전하고 싶은 달러금액은 500달러는 환율 1372으로 계산해서, 686000원입니다.\n"
          ]
        }
      ],
      "source": [
        "usd =int(input(\"환전할 달러를 입력: \"))                                                       # 사용자로부터 환전할 달러를 입력받아 정수형으로 변환하여 변수에 저장\n",
        "won = int(input(\"달러의 환율금액을 입력(231031: 1372원)\"))                                    # 사용자로부터 달러의 환율을 입력받아 정수형으로 변환하여 변수에 저장\n",
        "exchange = won * usd                                                                          # 달러의 환율과 환전할 달러를 곱하여 원화로 환전한 금액을 계산\n",
        "print(f'환전하고 싶은 달러금액은 {usd}달러는 환율 {won}으로 계산해서, {exchange}원입니다.')   # 환전에 관련된 정보를 출력"
      ]
    },
    {
      "cell_type": "markdown",
      "source": [
        "usd = int(input(\"환전할 달러를 입력: \"))는 사용자로부터 환전할 달러를 입력받아 정수형으로 변환하여 usd 변수에 저장하는 코드입니다. input() 함수를 사용하여 사용자로부터 입력을 받고, int() 함수를 사용하여 입력된 값을 정수로 변환합니다.\n",
        "won = int(input(\"달러의 환율금액을 입력(231031: 1372원)\"))는 사용자로부터 달러의 환율을 입력받아 정수형으로 변환하여 won 변수에 저장하는 코드입니다. input() 함수를 사용하여 사용자로부터 입력을 받고, int() 함수를 사용하여 입력된 값을 정수로 변환합니다.\n",
        "exchange = won * usd는 달러의 환율과 환전할 달러를 곱하여 원화로 환전한 금액을 계산하는 코드입니다. 이 값을 exchange 변수에 저장합니다.\n",
        "print(f'환전하고 싶은 달러금액은 {usd}달러는 환율 {won}으로 계산해서, {exchange}원입니다.')는 환전에 관련된 정보를 출력하는 코드입니다. f-string을 사용하여 출력 문자열 내에 변수들의 값을 포맷팅하여 출력합니다.\n",
        "위의 코드는 사용자로부터 환전할 달러와 달러의 환율을 입력받아 원화로 환전한 금액을 계산하고 출력하는 예제입니다. 입력된 값을 바탕으로 달러의 환율과 환전할 달러를 곱하여 원화로 환전한 금액을 계산합니다. 계산된 환전 금액과 관련된 정보를 출력합니다."
      ],
      "metadata": {
        "id": "Le3vPLqk86XV"
      }
    },
    {
      "cell_type": "markdown",
      "metadata": {
        "id": "ho70DNbbyMbI"
      },
      "source": [
        "3. 화씨를 섭씨로 섭씨를 화씨로 변경하는 코드\n",
        " - 화씨를 섭씨로 ℉ = ℃ * 1.8 + 32\n",
        " - 섭씨를 화씨로 ℃ = (℉ -32) / 1.8\n",
        " - 변수 : 화씨 fahrenheit, 섭씨 celsius"
      ]
    },
    {
      "cell_type": "code",
      "execution_count": null,
      "metadata": {
        "colab": {
          "base_uri": "https://localhost:8080/"
        },
        "id": "IAkCxNXnzfKp",
        "outputId": "d4a818cb-fac7-432b-842e-8bf437354af8"
      },
      "outputs": [
        {
          "name": "stdout",
          "output_type": "stream",
          "text": [
            "화씨를 입력하시오.: 100\n",
            "37.77777777777778\n"
          ]
        }
      ],
      "source": [
        "fahrenheit = int(input(\"화씨를 입력하시오.: \"))    # 사용자로부터 화씨 온도를 입력받아 정수형으로 변환하여 변수에 저장\n",
        "celsius = (fahrenheit - 32) / 1.8                  # 섭씨 온도로 변환하는 공식을 적용하여 계산\n",
        "print(celsius)                                     # 섭씨 온도를 출력"
      ]
    },
    {
      "cell_type": "markdown",
      "source": [
        "fahrenheit = int(input(\"화씨를 입력하시오.: \"))는 사용자로부터 화씨 온도를 입력받아 정수형으로 변환하여 fahrenheit 변수에 저장하는 코드입니다. input() 함수를 사용하여 사용자로부터 입력을 받고, int() 함수를 사용하여 입력된 값을 정수로 변환합니다.\n",
        "celsius = (fahrenheit - 32) / 1.8는 화씨 온도를 섭씨 온도로 변환하는 공식을 적용하여 계산하는 코드입니다. 화씨 온도에서 32를 뺀 후, 그 결과를 1.8로 나누어 섭씨 온도로 변환합니다. 계산된 섭씨 온도를 celsius 변수에 저장합니다.\n",
        "print(celsius)는 계산된 섭씨 온도를 출력하는 코드입니다.\n",
        "위의 코드는 사용자로부터 입력받은 화씨 온도를 섭씨 온도로 변환하여 출력하는 예제입니다. 입력된 화씨 온도에서 32를 빼고, 그 결과를 1.8로 나누어 섭씨 온도로 변환합니다. 변환된 섭씨 온도를 출력합니다."
      ],
      "metadata": {
        "id": "gmep8zVm9FDh"
      }
    },
    {
      "cell_type": "code",
      "source": [
        "celsius = float(input(\"섭씨를 입력하시오: \"))     # 사용자로부터 섭씨 온도를 입력받아 실수형으로 변환하여 변수에 저장\n",
        "fahrenheit = celsius * 1.8 + 32                   # 화씨 온도로 변환하는 공식을 적용하여 계산\n",
        "print(fahrenheit)                                 # 화씨 온도를 출력"
      ],
      "metadata": {
        "colab": {
          "base_uri": "https://localhost:8080/"
        },
        "id": "lnyuUfZ_YBW9",
        "outputId": "5d3a94cf-dd30-4507-ea0e-2ef8b37983da"
      },
      "execution_count": null,
      "outputs": [
        {
          "output_type": "stream",
          "name": "stdout",
          "text": [
            "섭씨를 입력하시오: 37.77777777777778\n",
            "100.0\n"
          ]
        }
      ]
    },
    {
      "cell_type": "markdown",
      "source": [
        "celsius = float(input(\"섭씨를 입력하시오: \"))는 사용자로부터 섭씨 온도를 입력받아 실수형으로 변환하여 celsius 변수에 저장하는 코드입니다. input() 함수를 사용하여 사용자로부터 입력을 받고, float() 함수를 사용하여 입력된 값을 실수로 변환합니다.\n",
        "fahrenheit = celsius * 1.8 + 32는 섭씨 온도를 화씨 온도로 변환하는 공식을 적용하여 계산하는 코드입니다. 섭씨 온도에 1.8을 곱한 후 32를 더하여 화씨 온도로 변환합니다. 계산된 화씨 온도를 fahrenheit 변수에 저장합니다.\n",
        "print(fahrenheit)는 계산된 화씨 온도를 출력하는 코드입니다.\n",
        "위의 코드는 사용자로부터 입력받은 섭씨 온도를 화씨 온도로 변환하여 출력하는 예제입니다. 입력된 섭씨 온도에 1.8을 곱하고 32를 더하여 화씨 온도로 변환합니다. 변환된 화씨 온도를 출력합니다."
      ],
      "metadata": {
        "id": "fUJOaFKw9ZhD"
      }
    }
  ],
  "metadata": {
    "colab": {
      "provenance": [],
      "authorship_tag": "ABX9TyOd6QwGS4yqHpikrwAyhMhv",
      "include_colab_link": true
    },
    "kernelspec": {
      "display_name": "Python 3",
      "name": "python3"
    },
    "language_info": {
      "name": "python"
    }
  },
  "nbformat": 4,
  "nbformat_minor": 0
}